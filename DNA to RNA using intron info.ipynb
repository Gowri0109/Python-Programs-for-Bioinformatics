{
 "cells": [
  {
   "cell_type": "code",
   "execution_count": 1,
   "id": "d5048e01",
   "metadata": {},
   "outputs": [],
   "source": [
    "def uppercase(str):\n",
    "    i=0\n",
    "    ch=''\n",
    "    while len(str)>i:\n",
    "        if str[i]>='a' and str[i]<='z' :\n",
    "            ch+=chr(ord(str[i])-32)\n",
    "        else:\n",
    "            ch += chr(ord(str[i]))\n",
    "        i+=1\n",
    "    return ch"
   ]
  },
  {
   "cell_type": "code",
   "execution_count": 2,
   "id": "c52c804f",
   "metadata": {},
   "outputs": [],
   "source": [
    "def exons(seq_num):\n",
    "    #lst = list([seq_num])\n",
    "    res = list(map(int,str(seq_num)))\n",
    "    print('Sequence Number:', res)\n",
    "    return res\n",
    "    #splicing(res, dna_seq)"
   ]
  },
  {
   "cell_type": "code",
   "execution_count": 3,
   "id": "9cf1823b",
   "metadata": {},
   "outputs": [],
   "source": [
    "def exons(seq_num):\n",
    "    seq_num= \"\"\n",
    "    seq_num = ''.join(item for item in seq_num if item.isalnum())\n",
    "    seq_num=list(map(int,str(seq_num)))\n",
    "    print(\"Sequence number:\",seq_num)\n",
    "    return seq_num"
   ]
  },
  {
   "cell_type": "code",
   "execution_count": 4,
   "id": "3ca8a2c9",
   "metadata": {},
   "outputs": [],
   "source": [
    "def splicing(exons, dna_seq):\n",
    "    start=0\n",
    "    end=1\n",
    "    dnaseq_exons=\"\"\n",
    "    while(end<len(exons)):\n",
    "        dnaseq_exons=dnaseq_exons+dna_seq[exons[start]-1:exons[end]]\n",
    "        start=start+2\n",
    "        end=end+2\n",
    "    print(\"Spliced Sequence:\",dnaseq_exons)\n",
    "    rna_seq=\"\"\n",
    "    for i in dnaseq_exons:\n",
    "        if i==\"T\":\n",
    "            rna_seq=rna_seq+\"U\"\n",
    "        else:\n",
    "            rna_seq=rna_seq+i\n",
    "    print(\"RNA sequence:\",rna_seq)        \n",
    "        "
   ]
  },
  {
   "cell_type": "code",
   "execution_count": 5,
   "id": "34f16f4f",
   "metadata": {
    "scrolled": false
   },
   "outputs": [
    {
     "name": "stdout",
     "output_type": "stream",
     "text": [
      "Enter DNA seq:atgcgtcatgcatgcatgca\n",
      "ATGCGTCATGCATGCATGCA\n",
      "Enter exon seq number:2479\n",
      "Sequence Number: [2, 4, 7, 9]\n",
      "Spliced Sequence: TGCCAT\n",
      "RNA sequence: UGCCAU\n"
     ]
    }
   ],
   "source": [
    "dna_seq=(input(\"Enter DNA seq:\"))\n",
    "dnaSeq = uppercase(dna_seq)\n",
    "print(dnaSeq)\n",
    "exon= (input(\"Enter exon seq number:\"))\n",
    "exon= exons(exon)\n",
    "splice = splicing(exon,dnaSeq)"
   ]
  }
 ],
 "metadata": {
  "kernelspec": {
   "display_name": "Python 3",
   "language": "python",
   "name": "python3"
  },
  "language_info": {
   "codemirror_mode": {
    "name": "ipython",
    "version": 3
   },
   "file_extension": ".py",
   "mimetype": "text/x-python",
   "name": "python",
   "nbconvert_exporter": "python",
   "pygments_lexer": "ipython3",
   "version": "3.8.8"
  }
 },
 "nbformat": 4,
 "nbformat_minor": 5
}
