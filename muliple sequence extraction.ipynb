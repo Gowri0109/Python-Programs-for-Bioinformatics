{
 "cells": [
  {
   "cell_type": "code",
   "execution_count": 18,
   "id": "a3c1b7ec",
   "metadata": {},
   "outputs": [],
   "source": [
    "import re"
   ]
  },
  {
   "cell_type": "code",
   "execution_count": 24,
   "id": "a352da59",
   "metadata": {},
   "outputs": [
    {
     "name": "stdout",
     "output_type": "stream",
     "text": [
      "<re.Match object; span=(4, 5), match='w'>\n",
      "GHSMG\n"
     ]
    }
   ],
   "source": [
    "# pattern=(r\"^>(\\w+)|(\\w+)|(\\w+_)(\\w+)\\s|(\\w+)\")\n",
    "# act_site=(\"GHSMG\")\n",
    "# clean=re.compile('|\\d|\\n|\\t')\n",
    "\n",
    "with open ('D:\\sxl2.fasta') as seq:\n",
    "#     seq=seq.replace('\\n','')\n",
    "    seq=re.search(r\"^>(\\w+)|(\\w+)|(\\w+_)(\\w+)\\s|(\\w+)\",pattern)\n",
    "    print(seq)\n",
    "#     seq.readline()\n",
    "    result=re.match(\"GHSMG\",act_site)\n",
    "    FINAL=result.group()\n",
    "    print(FINAL)"
   ]
  },
  {
   "cell_type": "code",
   "execution_count": 12,
   "id": "139429d7",
   "metadata": {},
   "outputs": [
    {
     "name": "stdout",
     "output_type": "stream",
     "text": [
      ">tr\n",
      "^GHSMG\n",
      ">sp\n",
      "^GHSMG\n"
     ]
    }
   ],
   "source": [
    "import re\n",
    "\n",
    "with open('D:\\sxl2.fasta') as prot:\n",
    "    seq=\"\"\n",
    "    for line in prot:\n",
    "        header=re.search(r'^>\\w+',line)\n",
    "        if(header):\n",
    "            print(header.group())\n",
    "            seq=seq.replace('\\n','')\n",
    "            re.compile(r'GHSMG',re.MULTILINE)\n",
    "            if(pattern1):\n",
    "                print(pattern1)\n",
    "                seq=\"\"\n",
    "            else:\n",
    "                seq+=line\n",
    "  "
   ]
  }
 ],
 "metadata": {
  "kernelspec": {
   "display_name": "Python 3",
   "language": "python",
   "name": "python3"
  },
  "language_info": {
   "codemirror_mode": {
    "name": "ipython",
    "version": 3
   },
   "file_extension": ".py",
   "mimetype": "text/x-python",
   "name": "python",
   "nbconvert_exporter": "python",
   "pygments_lexer": "ipython3",
   "version": "3.8.8"
  }
 },
 "nbformat": 4,
 "nbformat_minor": 5
}
